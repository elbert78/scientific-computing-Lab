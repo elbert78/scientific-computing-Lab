{
 "cells": [
  {
   "cell_type": "markdown",
   "metadata": {},
   "source": [
    "# Root Finding\n",
    "- Bisection\n",
    "- Newton Raphson\n",
    "\n",
    "masuk quiz, random antara keduanya"
   ]
  },
  {
   "cell_type": "code",
   "execution_count": 1,
   "metadata": {},
   "outputs": [],
   "source": [
    "import numpy as np"
   ]
  },
  {
   "cell_type": "markdown",
   "metadata": {},
   "source": [
    "1. First Define the function that we want to find the root of"
   ]
  },
  {
   "cell_type": "code",
   "execution_count": 2,
   "metadata": {},
   "outputs": [],
   "source": [
    "def f(x):\n",
    "  return (x**2) - 5\n"
   ]
  },
  {
   "cell_type": "markdown",
   "metadata": {},
   "source": [
    "## Bisection Method"
   ]
  },
  {
   "cell_type": "code",
   "execution_count": 3,
   "metadata": {},
   "outputs": [],
   "source": [
    "def bisection(a, b, epsilon):\n",
    "  if np.sign(f(a)) == np.sign(f(b)): # np.sign will return 0 if result is 0, -1 if result is negative and 1 if result is positve\n",
    "    print(\"Coodrinates Invalid\")\n",
    "    return\n",
    "\n",
    "  x = (a + b)/2\n",
    "\n",
    "  #The root have been found\n",
    "  if np.abs(f(x)) < epsilon:\n",
    "    print(f\"Root: {x}\")\n",
    "    return\n",
    "  \n",
    "  # Find where we should go for the next iteration \n",
    "  elif np.sign(f(x)) == np.sign(f(a)):\n",
    "    bisection(x, b, epsilon)\n",
    "\n",
    "  elif np.sign(f(x)) == np.sign(f(b)):\n",
    "    bisection(a, x, epsilon)\n",
    "\n"
   ]
  },
  {
   "cell_type": "code",
   "execution_count": 4,
   "metadata": {},
   "outputs": [
    {
     "name": "stdout",
     "output_type": "stream",
     "text": [
      "Coodrinates Invalid\n",
      "Root: 2.236083984375\n"
     ]
    }
   ],
   "source": [
    "bisection(0, 1, 0.001)\n",
    "bisection(2, 3, 0.0001)"
   ]
  },
  {
   "cell_type": "markdown",
   "metadata": {},
   "source": [
    "## Newton Raphson"
   ]
  },
  {
   "cell_type": "code",
   "execution_count": 5,
   "metadata": {},
   "outputs": [],
   "source": [
    "def f(x):\n",
    "  return (x**2) - 5\n",
    "\n",
    "# g(x) is the derivative of f(x)\n",
    "def g(x):\n",
    "  return 2*x"
   ]
  },
  {
   "cell_type": "code",
   "execution_count": 6,
   "metadata": {},
   "outputs": [],
   "source": [
    "def newtonRahpson(x0, epsilon):\n",
    "  x1 = x0 - (f(x0)/ g(x0))\n",
    "\n",
    "  # Root is found\n",
    "  if np.abs(f(x1)) < epsilon:\n",
    "    print(\"Root: \", x1)\n",
    "    return\n",
    "  \n",
    "  # Root haven't been found\n",
    "  newtonRahpson(x1, epsilon)"
   ]
  },
  {
   "cell_type": "code",
   "execution_count": 7,
   "metadata": {},
   "outputs": [
    {
     "name": "stdout",
     "output_type": "stream",
     "text": [
      "Root:  2.2362512514861397\n"
     ]
    }
   ],
   "source": [
    "newtonRahpson(4, 0.001)"
   ]
  }
 ],
 "metadata": {
  "kernelspec": {
   "display_name": "Python 3",
   "language": "python",
   "name": "python3"
  },
  "language_info": {
   "codemirror_mode": {
    "name": "ipython",
    "version": 3
   },
   "file_extension": ".py",
   "mimetype": "text/x-python",
   "name": "python",
   "nbconvert_exporter": "python",
   "pygments_lexer": "ipython3",
   "version": "3.13.0"
  }
 },
 "nbformat": 4,
 "nbformat_minor": 2
}
