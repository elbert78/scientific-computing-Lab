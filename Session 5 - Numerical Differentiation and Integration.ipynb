{
 "cells": [
  {
   "cell_type": "code",
   "execution_count": 1,
   "id": "3ef4d6fa",
   "metadata": {},
   "outputs": [],
   "source": [
    "\n",
    "import numpy as np"
   ]
  },
  {
   "cell_type": "code",
   "execution_count": 3,
   "id": "2b74e454",
   "metadata": {},
   "outputs": [],
   "source": [
    "def f(x):\n",
    "  return x*x - 5"
   ]
  },
  {
   "cell_type": "code",
   "execution_count": 13,
   "id": "f8774e0f",
   "metadata": {},
   "outputs": [
    {
     "name": "stdout",
     "output_type": "stream",
     "text": [
      "0.75\n",
      "[2.   2.75 3.5  4.25 5.  ]\n",
      "[-1.      2.5625  7.25   13.0625 20.    ]\n",
      "Left Reimann: 16.40625\n",
      "Right Reimann: 32.15625\n",
      "[2.375 3.125 3.875 4.625]\n",
      "[ 0.640625  4.765625 10.015625 16.390625]\n",
      "Mid Reimann: 23.859375\n",
      "Trapezoid: 24.28125\n"
     ]
    }
   ],
   "source": [
    "# Intervalnya, awal dan akhir\n",
    "a = 2\n",
    "b = 5\n",
    "n = 5 #Jumlah titik yang dibentuk dari banyak pergsegi\n",
    "\n",
    "# 1. Mencari lebar peseargi\n",
    "lebar_persegi = (b-a)/(n-1)\n",
    "print(lebar_persegi)\n",
    "\n",
    "# 2. Mencari panjang persegi\n",
    "x = np.linspace(a, b, n) # Param: Awal, akhir, dibagi ke berapa titik\n",
    "print(x)\n",
    "\n",
    "y = f(x)\n",
    "print(y)\n",
    "\n",
    "# 3. Mencari total luas\n",
    "# Slicing -> start:end(exclusive):increment\n",
    "# [0, 1, 2, 3] -> [0, 1, 2] -> [:3]\n",
    "leftReimann = lebar_persegi * sum(y[:n-1])\n",
    "print(f'Left Reimann: {leftReimann}')\n",
    "\n",
    "rightReimann = lebar_persegi * sum(y[1:])\n",
    "print(f'Right Reimann: {rightReimann}')\n",
    "\n",
    "# Mid Reimann\n",
    "x_mid = (x[:n-1] + x[1:])/2\n",
    "print(x_mid)\n",
    "y_mid = f(x_mid)\n",
    "print(y_mid)\n",
    "\n",
    "midReimann = lebar_persegi * sum(y_mid)\n",
    "print(f'Mid Reimann: {midReimann}')\n",
    "\n",
    "# Trapesium\n",
    "trapezoid = lebar_persegi / 2 * (y[0] +  y[n-1] + sum(y[1:n-1]) * 2)\n",
    "print(f'Trapezoid: {trapezoid}')"
   ]
  }
 ],
 "metadata": {
  "kernelspec": {
   "display_name": "Python 3",
   "language": "python",
   "name": "python3"
  },
  "language_info": {
   "codemirror_mode": {
    "name": "ipython",
    "version": 3
   },
   "file_extension": ".py",
   "mimetype": "text/x-python",
   "name": "python",
   "nbconvert_exporter": "python",
   "pygments_lexer": "ipython3",
   "version": "3.13.0"
  }
 },
 "nbformat": 4,
 "nbformat_minor": 5
}
